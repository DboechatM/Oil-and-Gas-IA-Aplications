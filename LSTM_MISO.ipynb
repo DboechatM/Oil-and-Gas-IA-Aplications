{
 "cells": [
  {
   "cell_type": "code",
   "execution_count": 61,
   "id": "f71ad105",
   "metadata": {},
   "outputs": [],
   "source": [
    "import pandas as pd\n",
    "from tensorflow import keras\n",
    "from keras.layers import Dense, LSTM\n",
    "from keras.models import Sequential\n",
    "from sklearn.preprocessing import MinMaxScaler\n",
    "import numpy as np\n",
    "from matplotlib import pyplot as plt\n",
    "from sklearn.metrics import mean_squared_error as MSE\n",
    "from keras.callbacks import EarlyStopping"
   ]
  },
  {
   "cell_type": "markdown",
   "id": "8555bce7",
   "metadata": {},
   "source": [
    "#### Functions"
   ]
  },
  {
   "cell_type": "code",
   "execution_count": 17,
   "id": "87e8b643",
   "metadata": {},
   "outputs": [
    {
     "data": {
      "text/plain": [
       "['DATEPRD',\n",
       " 'WELL_BORE_CODE',\n",
       " 'NPD_WELL_BORE_CODE',\n",
       " 'NPD_WELL_BORE_NAME',\n",
       " 'NPD_FIELD_CODE',\n",
       " 'NPD_FIELD_NAME',\n",
       " 'NPD_FACILITY_CODE',\n",
       " 'NPD_FACILITY_NAME',\n",
       " 'ON_STREAM_HRS',\n",
       " 'AVG_DOWNHOLE_PRESSURE',\n",
       " 'AVG_DOWNHOLE_TEMPERATURE',\n",
       " 'AVG_DP_TUBING',\n",
       " 'AVG_ANNULUS_PRESS',\n",
       " 'AVG_CHOKE_SIZE_P',\n",
       " 'AVG_CHOKE_UOM',\n",
       " 'AVG_WHP_P',\n",
       " 'AVG_WHT_P',\n",
       " 'DP_CHOKE_SIZE',\n",
       " 'BORE_OIL_VOL',\n",
       " 'BORE_GAS_VOL',\n",
       " 'BORE_WAT_VOL',\n",
       " 'BORE_WI_VOL',\n",
       " 'FLOW_KIND',\n",
       " 'WELL_TYPE']"
      ]
     },
     "execution_count": 17,
     "metadata": {},
     "output_type": "execute_result"
    }
   ],
   "source": [
    "columns_teste"
   ]
  },
  {
   "cell_type": "code",
   "execution_count": 18,
   "id": "6c9c99e9",
   "metadata": {},
   "outputs": [
    {
     "data": {
      "text/plain": [
       "['DATEPRD',\n",
       " 'WELL_BORE_CODE',\n",
       " 'NPD_WELL_BORE_CODE',\n",
       " 'NPD_WELL_BORE_NAME',\n",
       " 'NPD_FIELD_CODE',\n",
       " 'NPD_FIELD_NAME',\n",
       " 'NPD_FACILITY_CODE',\n",
       " 'NPD_FACILITY_NAME',\n",
       " 'ON_STREAM_HRS',\n",
       " 'AVG_DOWNHOLE_PRESSURE',\n",
       " 'AVG_DOWNHOLE_TEMPERATURE',\n",
       " 'AVG_DP_TUBING',\n",
       " 'AVG_ANNULUS_PRESS',\n",
       " 'AVG_CHOKE_SIZE_P',\n",
       " 'AVG_CHOKE_UOM',\n",
       " 'AVG_WHP_P',\n",
       " 'AVG_WHT_P',\n",
       " 'DP_CHOKE_SIZE',\n",
       " 'BORE_OIL_VOL',\n",
       " 'BORE_GAS_VOL',\n",
       " 'BORE_WAT_VOL',\n",
       " 'BORE_WI_VOL',\n",
       " 'FLOW_KIND',\n",
       " 'WELL_TYPE']"
      ]
     },
     "metadata": {},
     "output_type": "display_data"
    },
    {
     "name": "stdout",
     "output_type": "stream",
     "text": [
      "<class 'pandas.core.frame.DataFrame'>\n"
     ]
    },
    {
     "data": {
      "text/html": [
       "<div>\n",
       "<style scoped>\n",
       "    .dataframe tbody tr th:only-of-type {\n",
       "        vertical-align: middle;\n",
       "    }\n",
       "\n",
       "    .dataframe tbody tr th {\n",
       "        vertical-align: top;\n",
       "    }\n",
       "\n",
       "    .dataframe thead th {\n",
       "        text-align: right;\n",
       "    }\n",
       "</style>\n",
       "<table border=\"1\" class=\"dataframe\">\n",
       "  <thead>\n",
       "    <tr style=\"text-align: right;\">\n",
       "      <th></th>\n",
       "      <th>BORE_OIL_VOL</th>\n",
       "      <th>AVG_DOWNHOLE_PRESSURE</th>\n",
       "      <th>AVG_DOWNHOLE_TEMPERATURE</th>\n",
       "      <th>AVG_CHOKE_SIZE_P</th>\n",
       "      <th>ON_STREAM_HRS</th>\n",
       "      <th>BORE_GAS_VOL</th>\n",
       "      <th>BORE_WAT_VOL</th>\n",
       "    </tr>\n",
       "  </thead>\n",
       "  <tbody>\n",
       "    <tr>\n",
       "      <th>0</th>\n",
       "      <td>0.0</td>\n",
       "      <td>0.000</td>\n",
       "      <td>0.000</td>\n",
       "      <td>0.00000</td>\n",
       "      <td>0.0</td>\n",
       "      <td>0.0</td>\n",
       "      <td>0.0</td>\n",
       "    </tr>\n",
       "    <tr>\n",
       "      <th>4</th>\n",
       "      <td>0.0</td>\n",
       "      <td>310.376</td>\n",
       "      <td>96.876</td>\n",
       "      <td>1.21599</td>\n",
       "      <td>0.0</td>\n",
       "      <td>0.0</td>\n",
       "      <td>0.0</td>\n",
       "    </tr>\n",
       "    <tr>\n",
       "      <th>5</th>\n",
       "      <td>0.0</td>\n",
       "      <td>303.501</td>\n",
       "      <td>96.923</td>\n",
       "      <td>3.08702</td>\n",
       "      <td>0.0</td>\n",
       "      <td>0.0</td>\n",
       "      <td>0.0</td>\n",
       "    </tr>\n",
       "    <tr>\n",
       "      <th>6</th>\n",
       "      <td>0.0</td>\n",
       "      <td>303.535</td>\n",
       "      <td>96.959</td>\n",
       "      <td>1.96237</td>\n",
       "      <td>0.0</td>\n",
       "      <td>0.0</td>\n",
       "      <td>0.0</td>\n",
       "    </tr>\n",
       "    <tr>\n",
       "      <th>7</th>\n",
       "      <td>0.0</td>\n",
       "      <td>303.782</td>\n",
       "      <td>96.969</td>\n",
       "      <td>0.00000</td>\n",
       "      <td>0.0</td>\n",
       "      <td>0.0</td>\n",
       "      <td>0.0</td>\n",
       "    </tr>\n",
       "    <tr>\n",
       "      <th>...</th>\n",
       "      <td>...</td>\n",
       "      <td>...</td>\n",
       "      <td>...</td>\n",
       "      <td>...</td>\n",
       "      <td>...</td>\n",
       "      <td>...</td>\n",
       "      <td>...</td>\n",
       "    </tr>\n",
       "    <tr>\n",
       "      <th>741</th>\n",
       "      <td>0.0</td>\n",
       "      <td>270.268</td>\n",
       "      <td>101.198</td>\n",
       "      <td>0.00000</td>\n",
       "      <td>0.0</td>\n",
       "      <td>0.0</td>\n",
       "      <td>0.0</td>\n",
       "    </tr>\n",
       "    <tr>\n",
       "      <th>742</th>\n",
       "      <td>0.0</td>\n",
       "      <td>276.869</td>\n",
       "      <td>101.231</td>\n",
       "      <td>0.00000</td>\n",
       "      <td>0.0</td>\n",
       "      <td>0.0</td>\n",
       "      <td>0.0</td>\n",
       "    </tr>\n",
       "    <tr>\n",
       "      <th>743</th>\n",
       "      <td>0.0</td>\n",
       "      <td>282.105</td>\n",
       "      <td>101.178</td>\n",
       "      <td>0.26519</td>\n",
       "      <td>0.0</td>\n",
       "      <td>0.0</td>\n",
       "      <td>0.0</td>\n",
       "    </tr>\n",
       "    <tr>\n",
       "      <th>744</th>\n",
       "      <td>0.0</td>\n",
       "      <td>285.096</td>\n",
       "      <td>101.131</td>\n",
       "      <td>0.00000</td>\n",
       "      <td>0.0</td>\n",
       "      <td>0.0</td>\n",
       "      <td>0.0</td>\n",
       "    </tr>\n",
       "    <tr>\n",
       "      <th>745</th>\n",
       "      <td>0.0</td>\n",
       "      <td>0.000</td>\n",
       "      <td>0.000</td>\n",
       "      <td>0.00000</td>\n",
       "      <td>0.0</td>\n",
       "      <td>0.0</td>\n",
       "      <td>0.0</td>\n",
       "    </tr>\n",
       "  </tbody>\n",
       "</table>\n",
       "<p>743 rows × 7 columns</p>\n",
       "</div>"
      ],
      "text/plain": [
       "     BORE_OIL_VOL  AVG_DOWNHOLE_PRESSURE  AVG_DOWNHOLE_TEMPERATURE  \\\n",
       "0             0.0                  0.000                     0.000   \n",
       "4             0.0                310.376                    96.876   \n",
       "5             0.0                303.501                    96.923   \n",
       "6             0.0                303.535                    96.959   \n",
       "7             0.0                303.782                    96.969   \n",
       "..            ...                    ...                       ...   \n",
       "741           0.0                270.268                   101.198   \n",
       "742           0.0                276.869                   101.231   \n",
       "743           0.0                282.105                   101.178   \n",
       "744           0.0                285.096                   101.131   \n",
       "745           0.0                  0.000                     0.000   \n",
       "\n",
       "     AVG_CHOKE_SIZE_P  ON_STREAM_HRS  BORE_GAS_VOL  BORE_WAT_VOL  \n",
       "0             0.00000            0.0           0.0           0.0  \n",
       "4             1.21599            0.0           0.0           0.0  \n",
       "5             3.08702            0.0           0.0           0.0  \n",
       "6             1.96237            0.0           0.0           0.0  \n",
       "7             0.00000            0.0           0.0           0.0  \n",
       "..                ...            ...           ...           ...  \n",
       "741           0.00000            0.0           0.0           0.0  \n",
       "742           0.00000            0.0           0.0           0.0  \n",
       "743           0.26519            0.0           0.0           0.0  \n",
       "744           0.00000            0.0           0.0           0.0  \n",
       "745           0.00000            0.0           0.0           0.0  \n",
       "\n",
       "[743 rows x 7 columns]"
      ]
     },
     "execution_count": 18,
     "metadata": {},
     "output_type": "execute_result"
    }
   ],
   "source": [
    "df = pd.read_csv('Volve production data.csv', sep =';', decimal = ',' )\n",
    "columns_df = list(df2)\n",
    "display(columns_df)\n",
    "\n",
    "filtro = df.WELL_BORE_CODE == 'NO 15/9-F-1 C'\n",
    "df2 = df.loc[filtro]\n",
    "\n",
    "data = pd.DataFrame()\n",
    "columns = ['AVG_DOWNHOLE_PRESSURE','AVG_DOWNHOLE_TEMPERATURE','BORE_OIL_VOL', 'BORE_GAS_VOL', 'BORE_WAT_VOL', 'AVG_CHOKE_SIZE_P','ON_STREAM_HRS']\n",
    "\n",
    "for element in columns:\n",
    "    data[element] = df2[element].astype(float)\n",
    "    \n",
    "data.dropna(inplace = True)\n",
    "data = data.reindex(columns = ['BORE_OIL_VOL','AVG_DOWNHOLE_PRESSURE','AVG_DOWNHOLE_TEMPERATURE','AVG_CHOKE_SIZE_P','ON_STREAM_HRS','BORE_GAS_VOL', 'BORE_WAT_VOL'])\n",
    "print(type(data))\n",
    "\n",
    "data"
   ]
  },
  {
   "cell_type": "code",
   "execution_count": 19,
   "id": "39f05120",
   "metadata": {},
   "outputs": [],
   "source": [
    "def create_dataset(timestamp, data):\n",
    "    X = []\n",
    "    y = []\n",
    "    for i in range(timestamp,len(data)):\n",
    "        \n",
    "        data_X = data.iloc[:,1:-1]       \n",
    "        X.append(data[i-timestamp:i,:])\n",
    "        y.append(data.iloc[i,0])\n",
    "        \n",
    "        if i <= timestamp:\n",
    "            print(len(X))\n",
    "            print(X)\n",
    "            print(y)\n",
    "        \n",
    "    return np.array(X), np.array(y)"
   ]
  },
  {
   "cell_type": "code",
   "execution_count": 20,
   "id": "cf1672a0",
   "metadata": {},
   "outputs": [
    {
     "data": {
      "text/html": [
       "<div>\n",
       "<style scoped>\n",
       "    .dataframe tbody tr th:only-of-type {\n",
       "        vertical-align: middle;\n",
       "    }\n",
       "\n",
       "    .dataframe tbody tr th {\n",
       "        vertical-align: top;\n",
       "    }\n",
       "\n",
       "    .dataframe thead th {\n",
       "        text-align: right;\n",
       "    }\n",
       "</style>\n",
       "<table border=\"1\" class=\"dataframe\">\n",
       "  <thead>\n",
       "    <tr style=\"text-align: right;\">\n",
       "      <th></th>\n",
       "      <th>BORE_OIL_VOL</th>\n",
       "      <th>AVG_DOWNHOLE_PRESSURE</th>\n",
       "      <th>AVG_DOWNHOLE_TEMPERATURE</th>\n",
       "      <th>AVG_CHOKE_SIZE_P</th>\n",
       "      <th>ON_STREAM_HRS</th>\n",
       "      <th>BORE_GAS_VOL</th>\n",
       "      <th>BORE_WAT_VOL</th>\n",
       "    </tr>\n",
       "  </thead>\n",
       "  <tbody>\n",
       "    <tr>\n",
       "      <th>0</th>\n",
       "      <td>0.000000</td>\n",
       "      <td>0.0</td>\n",
       "      <td>0.000000</td>\n",
       "      <td>0.0</td>\n",
       "      <td>0.0</td>\n",
       "      <td>0.000000</td>\n",
       "      <td>0.0</td>\n",
       "    </tr>\n",
       "    <tr>\n",
       "      <th>1</th>\n",
       "      <td>0.892850</td>\n",
       "      <td>0.0</td>\n",
       "      <td>0.988865</td>\n",
       "      <td>0.0</td>\n",
       "      <td>0.0</td>\n",
       "      <td>0.012986</td>\n",
       "      <td>0.0</td>\n",
       "    </tr>\n",
       "    <tr>\n",
       "      <th>2</th>\n",
       "      <td>0.893283</td>\n",
       "      <td>0.0</td>\n",
       "      <td>0.966961</td>\n",
       "      <td>0.0</td>\n",
       "      <td>0.0</td>\n",
       "      <td>0.032969</td>\n",
       "      <td>0.0</td>\n",
       "    </tr>\n",
       "    <tr>\n",
       "      <th>3</th>\n",
       "      <td>0.893615</td>\n",
       "      <td>0.0</td>\n",
       "      <td>0.967069</td>\n",
       "      <td>0.0</td>\n",
       "      <td>0.0</td>\n",
       "      <td>0.020958</td>\n",
       "      <td>0.0</td>\n",
       "    </tr>\n",
       "    <tr>\n",
       "      <th>4</th>\n",
       "      <td>0.893707</td>\n",
       "      <td>0.0</td>\n",
       "      <td>0.967856</td>\n",
       "      <td>0.0</td>\n",
       "      <td>0.0</td>\n",
       "      <td>0.000000</td>\n",
       "      <td>0.0</td>\n",
       "    </tr>\n",
       "    <tr>\n",
       "      <th>...</th>\n",
       "      <td>...</td>\n",
       "      <td>...</td>\n",
       "      <td>...</td>\n",
       "      <td>...</td>\n",
       "      <td>...</td>\n",
       "      <td>...</td>\n",
       "      <td>...</td>\n",
       "    </tr>\n",
       "    <tr>\n",
       "      <th>738</th>\n",
       "      <td>0.932683</td>\n",
       "      <td>0.0</td>\n",
       "      <td>0.861080</td>\n",
       "      <td>0.0</td>\n",
       "      <td>0.0</td>\n",
       "      <td>0.000000</td>\n",
       "      <td>0.0</td>\n",
       "    </tr>\n",
       "    <tr>\n",
       "      <th>739</th>\n",
       "      <td>0.932987</td>\n",
       "      <td>0.0</td>\n",
       "      <td>0.882111</td>\n",
       "      <td>0.0</td>\n",
       "      <td>0.0</td>\n",
       "      <td>0.000000</td>\n",
       "      <td>0.0</td>\n",
       "    </tr>\n",
       "    <tr>\n",
       "      <th>740</th>\n",
       "      <td>0.932499</td>\n",
       "      <td>0.0</td>\n",
       "      <td>0.898793</td>\n",
       "      <td>0.0</td>\n",
       "      <td>0.0</td>\n",
       "      <td>0.002832</td>\n",
       "      <td>0.0</td>\n",
       "    </tr>\n",
       "    <tr>\n",
       "      <th>741</th>\n",
       "      <td>0.932066</td>\n",
       "      <td>0.0</td>\n",
       "      <td>0.908322</td>\n",
       "      <td>0.0</td>\n",
       "      <td>0.0</td>\n",
       "      <td>0.000000</td>\n",
       "      <td>0.0</td>\n",
       "    </tr>\n",
       "    <tr>\n",
       "      <th>742</th>\n",
       "      <td>0.000000</td>\n",
       "      <td>0.0</td>\n",
       "      <td>0.000000</td>\n",
       "      <td>0.0</td>\n",
       "      <td>0.0</td>\n",
       "      <td>0.000000</td>\n",
       "      <td>0.0</td>\n",
       "    </tr>\n",
       "  </tbody>\n",
       "</table>\n",
       "<p>743 rows × 7 columns</p>\n",
       "</div>"
      ],
      "text/plain": [
       "     BORE_OIL_VOL  AVG_DOWNHOLE_PRESSURE  AVG_DOWNHOLE_TEMPERATURE  \\\n",
       "0        0.000000                    0.0                  0.000000   \n",
       "1        0.892850                    0.0                  0.988865   \n",
       "2        0.893283                    0.0                  0.966961   \n",
       "3        0.893615                    0.0                  0.967069   \n",
       "4        0.893707                    0.0                  0.967856   \n",
       "..            ...                    ...                       ...   \n",
       "738      0.932683                    0.0                  0.861080   \n",
       "739      0.932987                    0.0                  0.882111   \n",
       "740      0.932499                    0.0                  0.898793   \n",
       "741      0.932066                    0.0                  0.908322   \n",
       "742      0.000000                    0.0                  0.000000   \n",
       "\n",
       "     AVG_CHOKE_SIZE_P  ON_STREAM_HRS  BORE_GAS_VOL  BORE_WAT_VOL  \n",
       "0                 0.0            0.0      0.000000           0.0  \n",
       "1                 0.0            0.0      0.012986           0.0  \n",
       "2                 0.0            0.0      0.032969           0.0  \n",
       "3                 0.0            0.0      0.020958           0.0  \n",
       "4                 0.0            0.0      0.000000           0.0  \n",
       "..                ...            ...           ...           ...  \n",
       "738               0.0            0.0      0.000000           0.0  \n",
       "739               0.0            0.0      0.000000           0.0  \n",
       "740               0.0            0.0      0.002832           0.0  \n",
       "741               0.0            0.0      0.000000           0.0  \n",
       "742               0.0            0.0      0.000000           0.0  \n",
       "\n",
       "[743 rows x 7 columns]"
      ]
     },
     "metadata": {},
     "output_type": "display_data"
    }
   ],
   "source": [
    "#NÃO RODAR!\n",
    "scaler = MinMaxScaler(feature_range=(0, 1))\n",
    "data_normalized = scaler.fit_transform(np.array(data))\n",
    "df_normalized = pd.DataFrame(scaler.fit_transform(np.array(data)), columns = columns)\n",
    "df_normalized = df_normalized.reindex(columns = ['BORE_OIL_VOL','AVG_DOWNHOLE_PRESSURE','AVG_DOWNHOLE_TEMPERATURE','AVG_CHOKE_SIZE_P','ON_STREAM_HRS','BORE_GAS_VOL', 'BORE_WAT_VOL'])\n",
    "\n",
    "\n",
    "\n",
    "display(df_normalized)"
   ]
  },
  {
   "cell_type": "code",
   "execution_count": 21,
   "id": "ca722fe5",
   "metadata": {},
   "outputs": [
    {
     "name": "stdout",
     "output_type": "stream",
     "text": [
      "(594, 1, 6) (594,) (149, 1, 6) (149,)\n"
     ]
    }
   ],
   "source": [
    "look_back = 1\n",
    "test_size = 0.2\n",
    "\n",
    "train_index = int(data.shape[0]*(1-test_size))\n",
    "\n",
    "train_data = df_normalized.iloc[:train_index,:].values\n",
    "test_data = df_normalized.iloc[train_index:,:].values\n",
    "\n",
    "# split into input and outputs\n",
    "train_X, train_y = train_data[:, 1:], train_data[:, 0]\n",
    "test_X, test_y = test_data[:, 1:], test_data[:, 0]\n",
    "\n",
    "train_X = train_X.reshape((train_X.shape[0], look_back, train_X.shape[1]))\n",
    "test_X = test_X.reshape((test_X.shape[0], look_back, test_X.shape[1]))\n",
    "\n",
    "print(train_X.shape, train_y.shape, test_X.shape, test_y.shape)\n",
    "\n",
    "#_, y_expected = create_dataset(look_back, data.iloc[train_index:-1:0].values)\n",
    "\n",
    "#print(y_expected.shape)"
   ]
  },
  {
   "cell_type": "code",
   "execution_count": 22,
   "id": "45df55b0",
   "metadata": {},
   "outputs": [
    {
     "data": {
      "text/plain": [
       "array([[[0.        , 0.        , 0.        , 0.        , 0.        ,\n",
       "         0.        ]],\n",
       "\n",
       "       [[0.        , 0.98886485, 0.        , 0.        , 0.01298643,\n",
       "         0.        ]],\n",
       "\n",
       "       [[0.        , 0.96696095, 0.        , 0.        , 0.0329685 ,\n",
       "         0.        ]],\n",
       "\n",
       "       ...,\n",
       "\n",
       "       [[0.31237113, 0.77855234, 0.0891286 , 0.00104137, 0.64788628,\n",
       "         0.96      ]],\n",
       "\n",
       "       [[0.31340206, 0.76411647, 0.08870633, 0.0010444 , 0.64740259,\n",
       "         0.96      ]],\n",
       "\n",
       "       [[0.31030928, 0.75219756, 0.08754319, 0.91826438, 0.64733371,\n",
       "         0.96      ]]])"
      ]
     },
     "execution_count": 22,
     "metadata": {},
     "output_type": "execute_result"
    }
   ],
   "source": [
    "train_X"
   ]
  },
  {
   "cell_type": "markdown",
   "id": "820646bd",
   "metadata": {},
   "source": [
    "scaler_target = MinMaxScaler(feature_range=(0, 1))\n",
    "scaler_target = scaler_target.fit(np.array(data[:,0]))\n",
    "\n",
    "# transform train\n",
    "train_data_y = np.array(train_data)\n",
    "test_data_y = data.iloc[train_index:-1,:].values\n",
    "\n",
    "train_data_y = train_data_y.reshape(-1, 1)\n",
    "train_scaled = scaler_target.transform(train_data_y)\n",
    "\n",
    "# transform test\n",
    "test_data_y = test_data_y.reshape(-1, 1)\n",
    "test_scaled = scaler_target.transform(test_data_y)"
   ]
  },
  {
   "cell_type": "markdown",
   "id": "7177be9e",
   "metadata": {
    "scrolled": false
   },
   "source": [
    "trainX, trainy = create_dataset(look_back, train_data)\n",
    "testX, testy = create_dataset(look_back, test_data)\n",
    "\n",
    "print(trainX.shape)\n",
    "\n",
    "train_data = np.reshape(trainX, (trainX.shape[0], look_back, 1))\n",
    "\n",
    "test_data = np.reshape(testX, (testX.shape[0], look_back, 1))\n",
    "print(train_data.shape)\n",
    "print(test_data.shape)"
   ]
  },
  {
   "cell_type": "code",
   "execution_count": 25,
   "id": "4facee50",
   "metadata": {
    "scrolled": true
   },
   "outputs": [
    {
     "name": "stdout",
     "output_type": "stream",
     "text": [
      "Model: \"sequential_1\"\n",
      "_________________________________________________________________\n",
      " Layer (type)                Output Shape              Param #   \n",
      "=================================================================\n",
      " lstm_2 (LSTM)               (None, 1, 40)             7520      \n",
      "                                                                 \n",
      " lstm_3 (LSTM)               (None, 40)                12960     \n",
      "                                                                 \n",
      " dense_2 (Dense)             (None, 20)                820       \n",
      "                                                                 \n",
      " dense_3 (Dense)             (None, 1)                 21        \n",
      "                                                                 \n",
      "=================================================================\n",
      "Total params: 21,321\n",
      "Trainable params: 21,321\n",
      "Non-trainable params: 0\n",
      "_________________________________________________________________\n"
     ]
    }
   ],
   "source": [
    "model = Sequential()\n",
    "model.add(LSTM(40, return_sequences = True, input_shape = (train_X.shape[1],train_X.shape[2])))\n",
    "model.add(LSTM(40, return_sequences = False))\n",
    "model.add(Dense(20, activation = 'tanh'))\n",
    "model.add(Dense(1))\n",
    "\n",
    "model.summary()"
   ]
  },
  {
   "cell_type": "code",
   "execution_count": 26,
   "id": "7aed0620",
   "metadata": {},
   "outputs": [
    {
     "name": "stdout",
     "output_type": "stream",
     "text": [
      "Epoch 1/10\n",
      "534/534 - 5s - loss: 0.0118 - val_loss: 0.0012 - 5s/epoch - 10ms/step\n",
      "Epoch 2/10\n",
      "534/534 - 1s - loss: 0.0024 - val_loss: 0.0011 - 1s/epoch - 2ms/step\n",
      "Epoch 3/10\n",
      "534/534 - 1s - loss: 0.0024 - val_loss: 9.8619e-04 - 1s/epoch - 2ms/step\n",
      "Epoch 4/10\n",
      "534/534 - 1s - loss: 0.0023 - val_loss: 9.1017e-04 - 1s/epoch - 2ms/step\n",
      "Epoch 5/10\n",
      "534/534 - 1s - loss: 0.0023 - val_loss: 8.4032e-04 - 1s/epoch - 2ms/step\n",
      "Epoch 6/10\n",
      "534/534 - 1s - loss: 0.0022 - val_loss: 7.7604e-04 - 1s/epoch - 2ms/step\n",
      "Epoch 7/10\n",
      "534/534 - 1s - loss: 0.0022 - val_loss: 7.1685e-04 - 1s/epoch - 2ms/step\n",
      "Epoch 8/10\n",
      "534/534 - 1s - loss: 0.0022 - val_loss: 6.6232e-04 - 1s/epoch - 2ms/step\n",
      "Epoch 9/10\n",
      "534/534 - 1s - loss: 0.0021 - val_loss: 6.1208e-04 - 1s/epoch - 2ms/step\n",
      "Epoch 10/10\n",
      "534/534 - 1s - loss: 0.0021 - val_loss: 5.6581e-04 - 1s/epoch - 2ms/step\n"
     ]
    },
    {
     "data": {
      "image/png": "[encoded data removed]",
      "text/plain": [
       "<Figure size 432x288 with 1 Axes>"
      ]
     },
     "metadata": {
      "needs_background": "light"
     },
     "output_type": "display_data"
    }
   ],
   "source": [
    "model.compile(optimizer = 'sgd', loss = 'mean_squared_error')\n",
    "\n",
    "history  = model.fit(train_X,train_y, batch_size = 1, epochs = 10,  validation_split = 0.1, verbose=2, shuffle=False)\n",
    "\n",
    "plt.plot(history.history['loss'], label='train')\n",
    "plt.plot(history.history['val_loss'], label='test')\n",
    "plt.xlabel('Epochs')\n",
    "plt.ylabel('Error')\n",
    "plt.legend()\n",
    "plt.show()"
   ]
  },
  {
   "cell_type": "code",
   "execution_count": 32,
   "id": "f9d4fbfc",
   "metadata": {
    "scrolled": true
   },
   "outputs": [
    {
     "data": {
      "image/png": "[encoded data removed]",
      "text/plain": [
       "<Figure size 432x288 with 1 Axes>"
      ]
     },
     "metadata": {
      "needs_background": "light"
     },
     "output_type": "display_data"
    },
    {
     "ename": "NameError",
     "evalue": "name 'RMSE' is not defined",
     "output_type": "error",
     "traceback": [
      "\u001b[1;31m---------------------------------------------------------------------------\u001b[0m",
      "\u001b[1;31mNameError\u001b[0m                                 Traceback (most recent call last)",
      "\u001b[1;32m<ipython-input-32-c3f32edb9c6c>\u001b[0m in \u001b[0;36m<module>\u001b[1;34m\u001b[0m\n\u001b[0;32m     13\u001b[0m \u001b[1;33m\u001b[0m\u001b[0m\n\u001b[0;32m     14\u001b[0m \u001b[1;33m\u001b[0m\u001b[0m\n\u001b[1;32m---> 15\u001b[1;33m \u001b[0mprint\u001b[0m\u001b[1;33m(\u001b[0m\u001b[0mRMSE\u001b[0m\u001b[1;33m)\u001b[0m\u001b[1;33m\u001b[0m\u001b[1;33m\u001b[0m\u001b[0m\n\u001b[0m",
      "\u001b[1;31mNameError\u001b[0m: name 'RMSE' is not defined"
     ]
    }
   ],
   "source": [
    "y_pred = model.predict(test_X)\n",
    "\n",
    "#y_pred = scaler_target.inverse_transform(y_pred)\n",
    "\n",
    "#RMSE = MSE(y_expected,y_pred)**0.5\n",
    "\n",
    "plt.plot(test_y, label='Expected')\n",
    "plt.plot(y_pred, label='predicted')\n",
    "plt.ylim(0.8,1)\n",
    "plt.legend(loc ='lower right')\n",
    "\n",
    "plt.show()\n",
    "\n",
    "\n",
    "print(RMSE)"
   ]
  },
  {
   "cell_type": "code",
   "execution_count": 68,
   "id": "9085e7a6",
   "metadata": {
    "scrolled": false
   },
   "outputs": [
    {
     "name": "stdout",
     "output_type": "stream",
     "text": [
      "Model: \"sequential_4\"\n",
      "_________________________________________________________________\n",
      " Layer (type)                Output Shape              Param #   \n",
      "=================================================================\n",
      " dense_18 (Dense)            (None, 1, 16)             112       \n",
      "                                                                 \n",
      " dense_19 (Dense)            (None, 1, 8)              136       \n",
      "                                                                 \n",
      " dense_20 (Dense)            (None, 1, 2)              18        \n",
      "                                                                 \n",
      " dense_21 (Dense)            (None, 1, 8)              24        \n",
      "                                                                 \n",
      " dense_22 (Dense)            (None, 1, 16)             144       \n",
      "                                                                 \n",
      " lstm_6 (LSTM)               (None, 1, 40)             9120      \n",
      "                                                                 \n",
      " lstm_7 (LSTM)               (None, 40)                12960     \n",
      "                                                                 \n",
      " dense_23 (Dense)            (None, 20)                820       \n",
      "                                                                 \n",
      " dense_24 (Dense)            (None, 1)                 21        \n",
      "                                                                 \n",
      "=================================================================\n",
      "Total params: 23,355\n",
      "Trainable params: 23,355\n",
      "Non-trainable params: 0\n",
      "_________________________________________________________________\n"
     ]
    }
   ],
   "source": [
    "model2 = Sequential()\n",
    "model2.add(Dense(16, input_shape = (train_X.shape[1],train_X.shape[2])))\n",
    "model2.add(Dense(8, activation = 'tanh'))\n",
    "model2.add(Dense(2, activation = 'tanh'))\n",
    "model2.add(Dense(8, activation = 'tanh'))\n",
    "model2.add(Dense(16, activation = 'tanh'))\n",
    "model2.add(LSTM(40, return_sequences = True))\n",
    "model2.add(LSTM(40, return_sequences = False))\n",
    "model2.add(Dense(20, activation = 'tanh'))\n",
    "model2.add(Dense(1))\n",
    "\n",
    "model2.summary()"
   ]
  },
  {
   "cell_type": "code",
   "execution_count": 71,
   "id": "ece52ccc",
   "metadata": {},
   "outputs": [
    {
     "name": "stdout",
     "output_type": "stream",
     "text": [
      "Epoch 1/50\n",
      "534/534 - 6s - loss: 0.0018 - val_loss: 2.3095e-04 - 6s/epoch - 11ms/step\n",
      "Epoch 2/50\n",
      "534/534 - 1s - loss: 0.0018 - val_loss: 2.0993e-04 - 1s/epoch - 3ms/step\n",
      "Epoch 3/50\n",
      "534/534 - 1s - loss: 0.0018 - val_loss: 1.9095e-04 - 1s/epoch - 3ms/step\n",
      "Epoch 4/50\n",
      "534/534 - 1s - loss: 0.0018 - val_loss: 1.7410e-04 - 1s/epoch - 2ms/step\n",
      "Epoch 5/50\n",
      "534/534 - 1s - loss: 0.0017 - val_loss: 1.5941e-04 - 1s/epoch - 3ms/step\n",
      "Epoch 6/50\n",
      "534/534 - 1s - loss: 0.0017 - val_loss: 1.4685e-04 - 1s/epoch - 3ms/step\n",
      "Epoch 7/50\n",
      "534/534 - 1s - loss: 0.0017 - val_loss: 1.3633e-04 - 1s/epoch - 3ms/step\n",
      "Epoch 8/50\n",
      "534/534 - 1s - loss: 0.0017 - val_loss: 1.2773e-04 - 1s/epoch - 3ms/step\n",
      "Epoch 9/50\n",
      "534/534 - 2s - loss: 0.0017 - val_loss: 1.2088e-04 - 2s/epoch - 3ms/step\n",
      "Epoch 10/50\n",
      "534/534 - 1s - loss: 0.0017 - val_loss: 1.1561e-04 - 1s/epoch - 2ms/step\n",
      "Epoch 11/50\n",
      "534/534 - 1s - loss: 0.0017 - val_loss: 1.1172e-04 - 1s/epoch - 2ms/step\n",
      "Epoch 12/50\n",
      "534/534 - 1s - loss: 0.0017 - val_loss: 1.0902e-04 - 1s/epoch - 2ms/step\n",
      "Epoch 13/50\n",
      "534/534 - 1s - loss: 0.0017 - val_loss: 1.0731e-04 - 1s/epoch - 3ms/step\n",
      "Epoch 14/50\n",
      "534/534 - 1s - loss: 0.0017 - val_loss: 1.0643e-04 - 1s/epoch - 2ms/step\n",
      "Epoch 15/50\n",
      "534/534 - 1s - loss: 0.0017 - val_loss: 1.0622e-04 - 1s/epoch - 3ms/step\n",
      "Epoch 16/50\n",
      "534/534 - 1s - loss: 0.0017 - val_loss: 1.0652e-04 - 1s/epoch - 3ms/step\n",
      "Epoch 17/50\n",
      "534/534 - 1s - loss: 0.0017 - val_loss: 1.0722e-04 - 1s/epoch - 2ms/step\n",
      "Epoch 18/50\n",
      "534/534 - 1s - loss: 0.0017 - val_loss: 1.0821e-04 - 1s/epoch - 2ms/step\n",
      "Epoch 19/50\n",
      "534/534 - 1s - loss: 0.0017 - val_loss: 1.0941e-04 - 1s/epoch - 3ms/step\n",
      "Epoch 20/50\n",
      "534/534 - 1s - loss: 0.0017 - val_loss: 1.1073e-04 - 1s/epoch - 3ms/step\n",
      "Epoch 21/50\n",
      "534/534 - 1s - loss: 0.0017 - val_loss: 1.1214e-04 - 1s/epoch - 3ms/step\n",
      "Epoch 22/50\n",
      "534/534 - 1s - loss: 0.0017 - val_loss: 1.1358e-04 - 1s/epoch - 3ms/step\n",
      "Epoch 23/50\n",
      "534/534 - 1s - loss: 0.0017 - val_loss: 1.1502e-04 - 1s/epoch - 3ms/step\n",
      "Epoch 24/50\n",
      "534/534 - 1s - loss: 0.0017 - val_loss: 1.1644e-04 - 1s/epoch - 3ms/step\n",
      "Epoch 25/50\n",
      "534/534 - 1s - loss: 0.0017 - val_loss: 1.1781e-04 - 1s/epoch - 3ms/step\n",
      "Epoch 26/50\n",
      "534/534 - 1s - loss: 0.0017 - val_loss: 1.1914e-04 - 1s/epoch - 3ms/step\n",
      "Epoch 27/50\n",
      "534/534 - 1s - loss: 0.0017 - val_loss: 1.2041e-04 - 1s/epoch - 2ms/step\n",
      "Epoch 28/50\n",
      "534/534 - 1s - loss: 0.0017 - val_loss: 1.2162e-04 - 1s/epoch - 2ms/step\n",
      "Epoch 29/50\n",
      "534/534 - 1s - loss: 0.0016 - val_loss: 1.2278e-04 - 1s/epoch - 3ms/step\n",
      "Epoch 30/50\n",
      "534/534 - 1s - loss: 0.0016 - val_loss: 1.2388e-04 - 1s/epoch - 3ms/step\n",
      "Epoch 31/50\n",
      "534/534 - 1s - loss: 0.0016 - val_loss: 1.2492e-04 - 1s/epoch - 2ms/step\n",
      "Epoch 32/50\n",
      "534/534 - 1s - loss: 0.0016 - val_loss: 1.2591e-04 - 1s/epoch - 2ms/step\n",
      "Epoch 33/50\n",
      "534/534 - 1s - loss: 0.0016 - val_loss: 1.2686e-04 - 1s/epoch - 3ms/step\n",
      "Epoch 34/50\n",
      "534/534 - 1s - loss: 0.0016 - val_loss: 1.2777e-04 - 1s/epoch - 2ms/step\n",
      "Epoch 35/50\n",
      "534/534 - 1s - loss: 0.0016 - val_loss: 1.2864e-04 - 1s/epoch - 2ms/step\n",
      "Epoch 36/50\n",
      "534/534 - 1s - loss: 0.0016 - val_loss: 1.2948e-04 - 1s/epoch - 3ms/step\n",
      "Epoch 37/50\n",
      "534/534 - 1s - loss: 0.0016 - val_loss: 1.3030e-04 - 1s/epoch - 2ms/step\n",
      "Epoch 38/50\n",
      "534/534 - 1s - loss: 0.0016 - val_loss: 1.3109e-04 - 1s/epoch - 3ms/step\n",
      "Epoch 39/50\n",
      "534/534 - 1s - loss: 0.0016 - val_loss: 1.3187e-04 - 1s/epoch - 3ms/step\n",
      "Epoch 40/50\n",
      "534/534 - 1s - loss: 0.0016 - val_loss: 1.3263e-04 - 1s/epoch - 2ms/step\n",
      "Epoch 41/50\n",
      "534/534 - 1s - loss: 0.0016 - val_loss: 1.3338e-04 - 1s/epoch - 2ms/step\n",
      "Epoch 42/50\n",
      "534/534 - 1s - loss: 0.0016 - val_loss: 1.3412e-04 - 1s/epoch - 2ms/step\n",
      "Epoch 43/50\n",
      "534/534 - 1s - loss: 0.0016 - val_loss: 1.3485e-04 - 1s/epoch - 2ms/step\n",
      "Epoch 44/50\n",
      "534/534 - 1s - loss: 0.0016 - val_loss: 1.3558e-04 - 1s/epoch - 2ms/step\n",
      "Epoch 45/50\n",
      "534/534 - 1s - loss: 0.0016 - val_loss: 1.3631e-04 - 1s/epoch - 2ms/step\n",
      "Epoch 46/50\n",
      "534/534 - 1s - loss: 0.0016 - val_loss: 1.3704e-04 - 1s/epoch - 3ms/step\n",
      "Epoch 47/50\n",
      "534/534 - 1s - loss: 0.0016 - val_loss: 1.3778e-04 - 1s/epoch - 3ms/step\n",
      "Epoch 48/50\n",
      "534/534 - 1s - loss: 0.0016 - val_loss: 1.3852e-04 - 1s/epoch - 3ms/step\n",
      "Epoch 49/50\n",
      "534/534 - 2s - loss: 0.0016 - val_loss: 1.3926e-04 - 2s/epoch - 3ms/step\n",
      "Epoch 50/50\n",
      "534/534 - 2s - loss: 0.0016 - val_loss: 1.4001e-04 - 2s/epoch - 3ms/step\n"
     ]
    },
    {
     "data": {
      "image/png": "[encoded data removed]",
      "text/plain": [
       "<Figure size 432x288 with 1 Axes>"
      ]
     },
     "metadata": {
      "needs_background": "light"
     },
     "output_type": "display_data"
    }
   ],
   "source": [
    "model2.compile(optimizer = 'sgd', loss = 'mean_squared_error')\n",
    "\n",
    "early_stopping_monitor = EarlyStopping(patience = 15)\n",
    "\n",
    "history  = model2.fit(train_X,train_y, batch_size = 1, epochs = 50,\n",
    "                      validation_split = 0.1, verbose=2, shuffle=False\n",
    "                     #,callbacks = [early_stopping_monitor]\n",
    "                     )\n",
    "\n",
    "plt.plot(history.history['loss'], label='train')\n",
    "plt.plot(history.history['val_loss'], label='test')\n",
    "plt.xlabel('Epochs')\n",
    "plt.ylabel('Error')\n",
    "plt.legend()\n",
    "plt.show()"
   ]
  },
  {
   "cell_type": "code",
   "execution_count": 72,
   "id": "f14f05b4",
   "metadata": {
    "scrolled": true
   },
   "outputs": [
    {
     "data": {
      "image/png": "[encoded data removed]",
      "text/plain": [
       "<Figure size 432x288 with 1 Axes>"
      ]
     },
     "metadata": {
      "needs_background": "light"
     },
     "output_type": "display_data"
    },
    {
     "name": "stdout",
     "output_type": "stream",
     "text": [
      "0.07334411812289908\n"
     ]
    }
   ],
   "source": [
    "y_pred = model2.predict(test_X)\n",
    "y_pred_train = model2.predict(train_X)\n",
    "\n",
    "#y_pred = scaler_target.inverse_transform(y_pred)\n",
    "\n",
    "RMSE = MSE(test_y,y_pred)**0.5\n",
    "\n",
    "plt.plot(test_y, label='Expected')\n",
    "plt.plot(y_pred, label='predicted')\n",
    "plt.ylim(0.9,y_pred.max()*1.005)\n",
    "plt.legend(loc ='lower right')\n",
    "\n",
    "plt.show()\n",
    "\n",
    "\n",
    "print(RMSE)"
   ]
  },
  {
   "cell_type": "code",
   "execution_count": 73,
   "id": "72eeadfc",
   "metadata": {},
   "outputs": [
    {
     "data": {
      "text/plain": [
       "<matplotlib.legend.Legend at 0x129d8dbe550>"
      ]
     },
     "execution_count": 73,
     "metadata": {},
     "output_type": "execute_result"
    },
    {
     "data": {
      "image/png": "[encoded data removed]",
      "text/plain": [
       "<Figure size 1296x360 with 1 Axes>"
      ]
     },
     "metadata": {
      "needs_background": "light"
     },
     "output_type": "display_data"
    }
   ],
   "source": [
    "x_axis = np.arange(0, data.shape[0])\n",
    "y_plot = np.linspace(0, y_pred.max(), num = data.shape[0])\n",
    "x_plot = list(map(lambda x: train_index+1, x_axis))\n",
    "\n",
    "y_pred_train = model2.predict(train_X)\n",
    "\n",
    "predicitions = np.concatenate((y_pred_train, y_pred), axis=0)\n",
    "\n",
    "fig = plt.figure(figsize=(18, 5))\n",
    "plt.plot(x_axis, df_normalized.iloc[:,0], label='Expected')\n",
    "plt.plot(x_axis, predicitions, label='Predicted')\n",
    "plt.title('Train an Teste Results')\n",
    "plt.ylabel('Oil Rate Production')\n",
    "plt.xlabel('Days')\n",
    "#plt.annotate(f'r-squared = {R2_treinamento1}', (0,0.9))\n",
    "plt.ylim(0.9,y_pred.max()*1.005)\n",
    "#fig.add_artist(lines.Line2D([524, 200], [524, 320]))\n",
    "plt.plot(x_plot, y_plot, 'r', linestyle='-')\n",
    "plt.legend(loc ='lower right')"
   ]
  }
 ],
 "metadata": {
  "kernelspec": {
   "display_name": "Python 3",
   "language": "python",
   "name": "python3"
  },
  "language_info": {
   "codemirror_mode": {
    "name": "ipython",
    "version": 3
   },
   "file_extension": ".py",
   "mimetype": "text/x-python",
   "name": "python",
   "nbconvert_exporter": "python",
   "pygments_lexer": "ipython3",
   "version": "3.8.8"
  }
 },
 "nbformat": 4,
 "nbformat_minor": 5
}
